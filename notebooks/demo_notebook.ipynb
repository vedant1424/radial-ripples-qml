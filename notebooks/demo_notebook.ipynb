{
 "cells": [
  {
   "cell_type": "markdown",
   "metadata": {},
   "source": [
    "# Radial Ripples QML Demo"
   ]
  },
  {
   "cell_type": "markdown",
   "metadata": {},
   "source": [
    "## 1. Setup and Configuration"
   ]
  },
  {
   "cell_type": "code",
   "execution_count": null,
   "metadata": {},
   "outputs": [],
   "source": [
    "import os\n",
    "import random\n",
    "import numpy as np\n",
    "import torch\n",
    "import pandas as pd\n",
    "import matplotlib.pyplot as plt\n",
    "from PIL import Image\n",
    "\n",
    "# Add src to path\n",
    "import sys\n",
    "sys.path.append('../src')\n",
    "\n",
    "# Configuration\n",
    "SEED = 42\n",
    "N_SAMPLES = 1000\n",
    "IMAGE_SIZE = (32, 32)\n",
    "OUTPUT_DIR = '../outputs'\n",
    "\n",
    "# Set seeds for reproducibility\n",
    "os.environ['PYTHONHASHSEED'] = str(SEED)\n",
    "random.seed(SEED)\n",
    "np.random.seed(SEED)\n",
    "torch.manual_seed(SEED)\n",
    "\n",
    "# Pennylane seed\n",
    "import pennylane as qml\n",
    "np.random.seed(SEED)\n",
    "\n",
    "# Create output directories\n",
    "os.makedirs(os.path.join(OUTPUT_DIR, 'images'), exist_ok=True)\n",
    "os.makedirs(os.path.join(OUTPUT_DIR, 'figures'), exist_ok=True)\n",
    "os.makedirs(os.path.join(OUTPUT_DIR, 'results'), exist_ok=True)\n",
    "\n",
    "# Save seed\n",
    "with open(os.path.join(OUTPUT_DIR, 'results', 'seed.txt'), 'w') as f:\n",
    "    f.write(str(SEED))"
   ]
  },
  {
   "cell_type": "markdown",
   "metadata": {},
   "source": [
    "## 2. Dataset Generation"
   ]
  },
  {
   "cell_type": "code",
   "execution_count": null,
   "metadata": {},
   "outputs": [],
   "source": [
    "from data.generate_ripples import build_dataset\n",
    "\n",
    "dataset_df = build_dataset(n=N_SAMPLES, out_dir=OUTPUT_DIR, size=IMAGE_SIZE, seed=SEED)\n",
    "print(f'Generated {len(dataset_df)} images.')\n",
    "print('Class distribution:')\n",
    "print(dataset_df['label'].value_counts())"
   ]
  },
  {
   "cell_type": "markdown",
   "metadata": {},
   "source": [
    "## 3. Feature Engineering"
   ]
  },
  {
   "cell_type": "code",
   "execution_count": null,
   "metadata": {},
   "outputs": [],
   "source": [
    "from sklearn.model_selection import train_test_split\n",
    "from sklearn.preprocessing import StandardScaler\n",
    "\n",
    "# Parameter-features\n",
    "features = ['A', 'f', 'k', 'phi', 'cx', 'cy']\n",
    "X = dataset_df[features].values\n",
    "y = dataset_df['label'].values\n",
    "\n",
    "# Train-test split\n",
    "X_train, X_test, y_train, y_test = train_test_split(X, y, test_size=0.3, random_state=SEED, stratify=y)\n",
    "\n",
    "# Standardize features\n",
    "scaler = StandardScaler()\n",
    "X_train_scaled = scaler.fit_transform(X_train)\n",
    "X_test_scaled = scaler.transform(X_test)"
   ]
  },
  {
   "cell_type": "markdown",
   "metadata": {},
   "source": [
    "## 4. Classical Baselines"
   ]
  },
  {
   "cell_type": "code",
   "execution_count": null,
   "metadata": {},
   "outputs": [],
   "source": [
    "from models.classical import train_logistic, train_svm_rbf\n",
    "from utils.visualize import plot_confusion_matrix\n",
    "\n",
    "# Logistic Regression\n",
    "lr_model, lr_metrics = train_logistic(X_train_scaled, y_train)\n",
    "print(f'Logistic Regression Accuracy: {lr_metrics[\"test_accuracy\"]:.4f}')\n",
    "\n",
    "# SVM with RBF Kernel\n",
    "svm_model, svm_metrics = train_svm_rbf(X_train_scaled, y_train)\n",
    "print(f'SVM RBF Accuracy: {svm_metrics[\"test_accuracy\"]:.4f}')\n",
    "\n",
    "# Confusion Matrices\n",
    "lr_preds = lr_model.predict(X_test_scaled)\n",
    "svm_preds = svm_model.predict(X_test_scaled)\n",
    "\n",
    "plot_confusion_matrix(y_test, lr_preds, class_names=['0', '1'], title='Logistic Regression CM', save_path=os.path.join(OUTPUT_DIR, 'figures', 'logistic_confusion.png'))\n",
    "plot_confusion_matrix(y_test, svm_preds, class_names=['0', '1'], title='SVM RBF CM', save_path=os.path.join(OUTPUT_DIR, 'figures', 'svm_confusion.png'))"
   ]
  },
  {
   "cell_type": "markdown",
   "metadata": {},
   "source": [
    "## 5. Quantum-Kernel SVM (PennyLane)"
   ]
  },
  {
   "cell_type": "code",
   "execution_count": null,
   "metadata": {},
   "outputs": [],
   "source": [
    "from models.quantum_pennylane_kernel import train_svm_with_pennylane_kernel\n",
    "from utils.visualize import plot_kernel_matrix\n",
    "\n",
    "# Train SVM with PennyLane Kernel\n",
    "svm_pl_model, svm_pl_metrics, svm_pl_kernel_matrices = train_svm_with_pennylane_kernel(X_train_scaled, y_train, X_test_scaled, y_test)\n",
    "print(f'SVM with PennyLane Kernel Accuracy: {svm_pl_metrics[\"test_accuracy\"]:.4f}')\n",
    "\n",
    "# Plot kernel matrix\n",
    "plot_kernel_matrix(svm_pl_kernel_matrices['train'], title='SVM PennyLane Kernel Matrix', save_path=os.path.join(OUTPUT_DIR, 'figures', 'svm_pl_kernel_heatmap.png'))\n",
    "\n",
    "# Confusion Matrix\n",
    "svm_pl_preds = svm_pl_model.predict(svm_pl_kernel_matrices['test'])\n",
    "plot_confusion_matrix(y_test, svm_pl_preds, class_names=['0', '1'], title='SVM PennyLane Kernel CM', save_path=os.path.join(OUTPUT_DIR, 'figures', 'svm_pl_confusion.png'))"
   ]
  },
  {
   "cell_type": "markdown",
   "metadata": {},
   "source": [
    "## 6. Variational Quantum Classifier (PennyLane)"
   ]
  },
  {
   "cell_type": "code",
   "execution_count": null,
   "metadata": {},
   "outputs": [],
   "source": [
    "from models.quantum_pennylane import train_vqc, build_vqc\n",
    "from sklearn.model_selection import train_test_split\n",
    "\n",
    "# Need to create a validation set for VQC training\n",
    "X_train_vqc, X_val_vqc, y_train_vqc, y_val_vqc = train_test_split(X_train_scaled, y_train, test_size=0.2, random_state=SEED, stratify=y_train)\n",
    "\n",
    "# PennyLane expects labels as -1 and 1\n",
    "y_train_vqc_pl = np.where(y_train_vqc == 0, -1, 1)\n",
    "y_val_vqc_pl = np.where(y_val_vqc == 0, -1, 1)\n",
    "\n",
    "vqc_params, vqc_history = train_vqc(X_train_vqc, y_train_vqc_pl, X_val_vqc, y_val_vqc_pl, n_qubits=6, n_layers=2, epochs=50)\n",
    "\n",
    "# Evaluate on the test set\n",
    "var_classifier, _ = build_vqc(n_qubits=6, n_layers=2)\n",
    "test_preds_vqc = np.sign(var_classifier(vqc_params['weights'], vqc_params['bias'], X_test_scaled))\n",
    "test_preds_vqc_binary = np.where(test_preds_vqc == -1, 0, 1)\n",
    "vqc_accuracy = np.mean(test_preds_vqc_binary == y_test)\n",
    "print(f'VQC Test Accuracy: {vqc_accuracy:.4f}')\n",
    "\n",
    "plot_confusion_matrix(y_test, test_preds_vqc_binary, class_names=['0', '1'], title='VQC Confusion Matrix', save_path=os.path.join(OUTPUT_DIR, 'figures', 'vqc_confusion.png'))"
   ]
  },
  {
   "cell_type": "markdown",
   "metadata": {},
   "source": [
    "## 7. Summary of Results"
   ]
  },
  {
   "cell_type": "code",
   "execution_count": null,
   "metadata": {},
   "outputs": [],
   "source": [
    "results = {\n",
    "    'Logistic Regression': lr_metrics['test_accuracy'],\n",
    "    'SVM RBF': svm_metrics['test_accuracy'],\n",
    "    'SVM PennyLane Kernel': svm_pl_metrics['test_accuracy'],\n",
    "    'VQC': vqc_accuracy\n",
    "}\n",
    "\n",
    "results_df = pd.DataFrame.from_dict(results, orient='index', columns=['Test Accuracy'])\n",
    "print(results_df)\n",
    "results_df.to_csv(os.path.join(OUTPUT_DIR, 'results', 'model_accuracies.csv'))"
   ]
  }
 ],
 "metadata": {
  "kernelspec": {
   "display_name": "Python 3",
   "language": "python",
   "name": "python3"
  },
  "language_info": {
   "codemirror_mode": {
    "name": "ipython",
    "version": 3
   },
   "file_extension": ".py",
   "mimetype": "text/x-python",
   "name": "python",
   "nbconvert_exporter": "python",
   "pygments_lexer": "ipython3",
   "version": "3.10.11"
  }
 },
 "nbformat": 4,
 "nbformat_minor": 4
}
